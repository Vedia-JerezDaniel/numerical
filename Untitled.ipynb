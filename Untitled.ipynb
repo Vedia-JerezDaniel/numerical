{
 "cells": [
  {
   "cell_type": "code",
   "execution_count": 3,
   "id": "0aa22d79-434c-4a58-be57-06d4bf8ca9c2",
   "metadata": {},
   "outputs": [],
   "source": [
    "import sympyprinting as sim"
   ]
  },
  {
   "cell_type": "code",
   "execution_count": null,
   "id": "be5e2b69-9ee6-40fe-a6a2-76b57afb23e5",
   "metadata": {},
   "outputs": [],
   "source": []
  }
 ],
 "metadata": {
  "kernelspec": {
   "display_name": "Python 3.8.10 64-bit ('fm': conda)",
   "language": "python",
   "name": "python3810jvsc74a57bd0718505d40c6095cf455717dc3d3e7fcd65c573473480d616d9747244434702c6"
  },
  "language_info": {
   "codemirror_mode": {
    "name": "ipython",
    "version": 3
   },
   "file_extension": ".py",
   "mimetype": "text/x-python",
   "name": "python",
   "nbconvert_exporter": "python",
   "pygments_lexer": "ipython3",
   "version": "3.8.11"
  }
 },
 "nbformat": 4,
 "nbformat_minor": 5
}
